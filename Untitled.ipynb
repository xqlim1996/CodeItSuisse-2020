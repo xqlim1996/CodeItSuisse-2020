{
 "cells": [
  {
   "cell_type": "code",
   "execution_count": null,
   "metadata": {},
   "outputs": [],
   "source": [
    "import numpy as np\n",
    "import pandas as pd \n"
   ]
  },
  {
   "cell_type": "code",
   "execution_count": null,
   "metadata": {},
   "outputs": [],
   "source": [
    "data = b'Open,High,Low,Close,Volume\\n11099.8,11205.2,11099.7,11205.1,76\\n11423.6,11443.7,11388.2,11408.1,106\\n11382.2,11392.1,11311.4,11321.5,46\\n11421.3,11501.5,11396.1,11491.4,64\\n11450.4,11455.4,11359.5,11374.6,65\\n11363.8,11449.2,11303.1,11333.2,53\\n11335.3,11370.4,11335.1,11360.1,22\\n11233.6,11263.5,11183.1,11233.2,107\\n11307.9,11328.0,11161.8,11161.8,65\\n11120.8,11130.8,10999.8,10999.8,61\\n11044.3,11104.4,11019.1,11069.1,75\\n11015.9,11126.3,11005.7,11106.0,64\\n11155.5,11180.6,11034.6,11039.6,59\\n'\n",
    "data = data.decode('utf-8')\n",
    "\n",
    "data = data.split('\\n')\n",
    "data_formatted = []\n",
    "data.pop()\n",
    "col_names = data.pop(0).split(',')\n",
    "for row in data:\n",
    "    elems = row.split(',')\n",
    "    elems_formatted = []\n",
    "    for elem in elems:\n",
    "        elems_formatted.append(float(elem))\n",
    "    data_formatted.append(elems_formatted)\n",
    "\n",
    "data_formatted = np.array(data_formatted)\n",
    "# print(data_formatted)\n",
    "# print(col_names)\n",
    "df = pd.DataFrame(data_formatted, columns = col_names)\n",
    "print(df)"
   ]
  }
 ],
 "metadata": {
  "kernelspec": {
   "display_name": "Python 3",
   "language": "python",
   "name": "python3"
  },
  "language_info": {
   "codemirror_mode": {
    "name": "ipython",
    "version": 3
   },
   "file_extension": ".py",
   "mimetype": "text/x-python",
   "name": "python",
   "nbconvert_exporter": "python",
   "pygments_lexer": "ipython3",
   "version": "3.8.5"
  }
 },
 "nbformat": 4,
 "nbformat_minor": 4
}
